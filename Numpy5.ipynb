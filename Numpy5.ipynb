{
 "cells": [
  {
   "cell_type": "markdown",
   "metadata": {},
   "source": [
    "# Numpy Exercise 5\n",
    "\n",
    "### All of the questions in this exercise are attributed to rougier/numpy-100"
   ]
  },
  {
   "cell_type": "code",
   "execution_count": null,
   "metadata": {},
   "outputs": [],
   "source": []
  },
  {
   "cell_type": "markdown",
   "metadata": {},
   "source": [
    "#### 61. Find the nearest value from a given value in an array (★★☆)"
   ]
  },
  {
   "cell_type": "code",
   "execution_count": null,
   "metadata": {},
   "outputs": [],
   "source": [
    "import numpy as np\n",
    "\n",
    "arr = np.array([1, 3, 5, 7, 9])\n",
    "\n",
    "val = 4\n",
    "\n",
    "\n",
    "idx = np.argmin(np.abs(arr - val))\n",
    "\n",
    "\n",
    "nearest_val = arr[idx]\n",
    "\n",
    "\n",
    "print(nearest_val)\n"
   ]
  },
  {
   "cell_type": "markdown",
   "metadata": {},
   "source": [
    "#### 62. Considering two arrays with shape (1,3) and (3,1), how to compute their sum using an iterator? (★★☆)"
   ]
  },
  {
   "cell_type": "code",
   "execution_count": null,
   "metadata": {},
   "outputs": [],
   "source": [
    "import numpy as np\n",
    "\n",
    "\n",
    "a = np.array([[1, 2, 3]])\n",
    "b = np.array([[4], [5], [6]])\n",
    "\n",
    "\n",
    "it = np.nditer([a, b])\n",
    "\n",
    "s = 0\n",
    "\n",
    "for x, y in it:\n",
    "    s += x + y\n",
    "\n",
    "\n",
    "print(s)\n"
   ]
  },
  {
   "cell_type": "markdown",
   "metadata": {},
   "source": [
    "#### 63. Create an array class that has a name attribute (★★☆)"
   ]
  },
  {
   "cell_type": "code",
   "execution_count": null,
   "metadata": {},
   "outputs": [],
   "source": [
    "import numpy as np\n",
    "\n",
    "class NamedArray(np.ndarray):\n",
    "    def __new__(cls, input_array, name=None):\n",
    "        obj = np.asarray(input_array).view(cls)\n",
    "        obj.name = name\n",
    "        return obj\n",
    "    \n",
    "    def __array_finalize__(self, obj):\n",
    "        if obj is None: return\n",
    "        self.name = getattr(obj, 'name', None)\n"
   ]
  },
  {
   "cell_type": "markdown",
   "metadata": {},
   "source": [
    "#### 64. Consider a given vector, how to add 1 to each element indexed by a second vector (be careful with repeated indices)? (★★★)"
   ]
  },
  {
   "cell_type": "code",
   "execution_count": null,
   "metadata": {},
   "outputs": [],
   "source": [
    "import numpy as np\n",
    "\n",
    "x = np.array([1, 2, 3, 4, 5])\n",
    "idx = np.array([0, 2, 4])\n",
    "\n",
    "\n",
    "x[idx] += 1\n",
    "\n",
    "\n",
    "print(x)\n"
   ]
  },
  {
   "cell_type": "markdown",
   "metadata": {},
   "source": [
    "#### 65. How to accumulate elements of a vector (X) to an array (F) based on an index list (I)? (★★★)"
   ]
  },
  {
   "cell_type": "code",
   "execution_count": null,
   "metadata": {},
   "outputs": [],
   "source": [
    "import numpy as np\n",
    "\n",
    "X = np.array([1, 2, 3, 4, 5])\n",
    "I = np.array([0, 1, 2, 0, 2])\n",
    "\n",
    "\n",
    "F = np.zeros(3)\n",
    "\n",
    "\n",
    "np.add.at(F, I, X)\n",
    "\n",
    "print(F)\n"
   ]
  },
  {
   "cell_type": "markdown",
   "metadata": {},
   "source": [
    "#### 66. Considering a (w,h,3) image of (dtype=ubyte), compute the number of unique colors (★★☆)"
   ]
  },
  {
   "cell_type": "code",
   "execution_count": null,
   "metadata": {},
   "outputs": [],
   "source": [
    "import numpy as np\n",
    "from PIL import Image\n",
    "\n",
    "\n",
    "image = Image.open('image.jpg')\n",
    "arr = np.array(image)\n",
    "\n",
    "arr_2d = arr.reshape(-1, 3)\n",
    "\n",
    "\n",
    "unique_colors = np.unique(arr_2d, axis=0)\n",
    "\n",
    "\n",
    "print('Number of unique colors:', len(unique_colors))\n"
   ]
  },
  {
   "cell_type": "markdown",
   "metadata": {},
   "source": [
    "#### 67. Considering a four dimensions array, how to get sum over the last two axis at once? (★★★)"
   ]
  },
  {
   "cell_type": "code",
   "execution_count": null,
   "metadata": {},
   "outputs": [],
   "source": [
    "import numpy as np\n",
    "\n",
    "\n",
    "arr = np.random.rand(2, 3, 4, 5)\n",
    "\n",
    "\n",
    "sum_last_two_axes = np.sum(arr, axis=(-2, -1))\n",
    "\n",
    "print('Shape of sum:', sum_last_two_axes.shape)\n",
    "print('Sum over last two axes:', sum_last_two_axes)\n"
   ]
  },
  {
   "cell_type": "markdown",
   "metadata": {},
   "source": [
    "#### 68. Considering a one-dimensional vector D, how to compute means of subsets of D using a vector S of same size describing subset  indices? (★★★)"
   ]
  },
  {
   "cell_type": "code",
   "execution_count": null,
   "metadata": {},
   "outputs": [],
   "source": [
    "import numpy as np\n",
    "\n",
    "\n",
    "D = np.array([1, 2, 3, 4, 5, 6, 7, 8])\n",
    "S = np.array([0, 0, 1, 1, 2, 2, 2, 2])\n",
    "\n",
    "\n",
    "means = np.bincount(S, weights=D) / np.bincount(S)\n",
    "\n",
    "\n",
    "print('Means:', means)\n"
   ]
  },
  {
   "cell_type": "markdown",
   "metadata": {},
   "source": [
    "#### 69. How to get the diagonal of a dot product? (★★★)"
   ]
  },
  {
   "cell_type": "code",
   "execution_count": null,
   "metadata": {},
   "outputs": [],
   "source": [
    "import numpy as np\n",
    "\n",
    "A = np.random.rand(3, 4)\n",
    "B = np.random.rand(4, 3)\n",
    "\n",
    "\n",
    "diagonal = np.diagonal(np.dot(A, B))\n",
    "\n",
    "\n",
    "print('Diagonal:', diagonal)\n"
   ]
  },
  {
   "cell_type": "markdown",
   "metadata": {},
   "source": [
    "#### 70. Consider the vector [1, 2, 3, 4, 5], how to build a new vector with 3 consecutive zeros interleaved between each value? (★★★)"
   ]
  },
  {
   "cell_type": "code",
   "execution_count": null,
   "metadata": {},
   "outputs": [],
   "source": [
    "import numpy as np\n",
    "\n",
    "\n",
    "v = np.array([1, 2, 3, 4, 5])\n",
    "\n",
    "\n",
    "w = np.repeat(v, 4)[:-3]\n",
    "w[3::4] = 0\n",
    "\n",
    "\n",
    "print('New vector:', w)\n"
   ]
  },
  {
   "cell_type": "markdown",
   "metadata": {},
   "source": [
    "#### 71. Consider an array of dimension (5,5,3), how to mulitply it by an array with dimensions (5,5)? (★★★)"
   ]
  },
  {
   "cell_type": "code",
   "execution_count": null,
   "metadata": {},
   "outputs": [],
   "source": [
    "import numpy as np\n",
    "\n",
    "a = np.random.rand(5, 5, 3)\n",
    "b = np.random.rand(5, 5)\n",
    "\n",
    "c = a * b[..., None]\n",
    "\n",
    "\n",
    "print('Resulting array shape:', c.shape)\n"
   ]
  },
  {
   "cell_type": "markdown",
   "metadata": {},
   "source": [
    "#### 72. How to swap two rows of an array? (★★★)"
   ]
  },
  {
   "cell_type": "code",
   "execution_count": null,
   "metadata": {},
   "outputs": [],
   "source": [
    "import numpy as np\n",
    "\n",
    "a = np.array([[1, 2, 3],\n",
    "              [4, 5, 6],\n",
    "              [7, 8, 9]])\n",
    "\n",
    "\n",
    "a[[1, 2]] = a[[2, 1]]\n",
    "\n",
    "print(a)\n"
   ]
  },
  {
   "cell_type": "markdown",
   "metadata": {},
   "source": [
    "#### 73. Consider a set of 10 triplets describing 10 triangles (with shared vertices), find the set of unique line segments composing all the  triangles (★★★)"
   ]
  },
  {
   "cell_type": "code",
   "execution_count": null,
   "metadata": {},
   "outputs": [],
   "source": [
    "import numpy as np\n",
    "\n",
    "triplets = np.array([[(0, 0), (1, 0), (0, 1)],\n",
    "                     [(0, 0), (1, 0), (1, 1)],\n",
    "                     [(0, 0), (0, 1), (1, 1)],\n",
    "                     [(0, 0), (1, 1), (0, 1)],\n",
    "                     [(1, 0), (0, 1), (1, 1)],\n",
    "                     [(1, 0), (2, 0), (1, 1)],\n",
    "                     [(1, 1), (2, 0), (2, 1)],\n",
    "                     [(1, 1), (1, 2), (2, 1)],\n",
    "                     [(2, 0), (2, 1), (1, 2)],\n",
    "                     [(2, 1), (2, 0), (3, 0)]])\n",
    "\n",
    "pairs = triplets.reshape(-1, 2)\n",
    "\n",
    "sorted_pairs = np.sort(pairs, axis=1)\n",
    "\n",
    "unique_pairs, indices = np.unique(sorted_pairs, axis=0, return_index=True)\n",
    "\n",
    "unique_segments = pairs[indices]\n",
    "\n",
    "print(unique_segments)\n"
   ]
  },
  {
   "cell_type": "markdown",
   "metadata": {},
   "source": [
    "#### 74. Given a sorted array C that corresponds to a bincount, how to produce an array A such that np.bincount(A) == C? (★★★)"
   ]
  },
  {
   "cell_type": "code",
   "execution_count": null,
   "metadata": {},
   "outputs": [],
   "source": [
    "import numpy as np\n",
    "\n",
    "C = [0, 1, 2, 2, 0, 1, 0, 0, 1, 3]\n",
    "\n",
    "A = np.repeat(np.arange(len(C)), C)\n",
    "print(A)\n"
   ]
  },
  {
   "cell_type": "markdown",
   "metadata": {},
   "source": [
    "#### 75. How to compute averages using a sliding window over an array? (★★★)"
   ]
  },
  {
   "cell_type": "code",
   "execution_count": null,
   "metadata": {},
   "outputs": [],
   "source": [
    "import numpy as np\n",
    "\n",
    "def sliding_average(arr, window_size):\n",
    "    window = np.ones(window_size) / window_size\n",
    "    return np.convolve(arr, window, mode='valid')\n",
    "\n",
    "\n",
    "arr = np.array([1, 2, 3, 4, 5, 6, 7, 8, 9, 10])\n",
    "window_size = 3\n",
    "averages = sliding_average(arr, window_size)\n",
    "\n",
    "print(averages)\n"
   ]
  },
  {
   "cell_type": "markdown",
   "metadata": {},
   "source": [
    "#### 76. Consider a one-dimensional array Z, build a two-dimensional array whose first row is (Z[0],Z[1],Z[2]) and each subsequent row is  shifted by 1 (last row should be (Z[-3],Z[-2],Z[-1]) (★★★)"
   ]
  },
  {
   "cell_type": "code",
   "execution_count": null,
   "metadata": {},
   "outputs": [],
   "source": [
    "import numpy as np\n",
    "\n",
    "\n",
    "Z = np.array([1, 2, 3, 4, 5, 6, 7, 8, 9])\n",
    "\n",
    "\n",
    "shifted_views = [Z[i:i+3] for i in range(len(Z)-2)]\n",
    "\n",
    "result = np.vstack(shifted_views)\n",
    "\n",
    "print(result)\n"
   ]
  },
  {
   "cell_type": "markdown",
   "metadata": {},
   "source": [
    "#### 77. How to negate a boolean, or to change the sign of a float inplace? (★★★)"
   ]
  },
  {
   "cell_type": "code",
   "execution_count": null,
   "metadata": {},
   "outputs": [],
   "source": [
    "import numpy as np\n",
    "\n",
    "\n",
    "float_array = np.array([1.0, -2.0, 3.0])\n",
    "\n",
    "float_array *= -1\n",
    "\n",
    "print(float_array)\n"
   ]
  },
  {
   "cell_type": "markdown",
   "metadata": {},
   "source": [
    "#### 78. Consider 2 sets of points P0,P1 describing lines (2d) and a point p, how to compute distance from p to each line i (P0[i],P1[i])? (★★★)"
   ]
  },
  {
   "cell_type": "code",
   "execution_count": null,
   "metadata": {},
   "outputs": [],
   "source": [
    "import numpy as np\n",
    "\n",
    "P0 = np.array([[1, 1], [2, 3], [4, 5]])\n",
    "P1 = np.array([[5, 5], [3, 2], [1, 0]])\n",
    "p = np.array([3, 4])\n",
    "\n",
    "u = (P1 - P0) / np.linalg.norm(P1 - P0, axis=1)[:, np.newaxis]\n",
    "\n",
    "\n",
    "v = p - P0\n",
    "\n",
    "proj_v = u * np.sum(u * v, axis=1)[:, np.newaxis]\n",
    "\n",
    "w = v - proj_v\n",
    "\n",
    "dist = np.linalg.norm(w, axis=1)\n",
    "\n",
    "print(dist)\n"
   ]
  },
  {
   "cell_type": "markdown",
   "metadata": {},
   "source": [
    "#### 79. Consider 2 sets of points P0,P1 describing lines (2d) and a set of points P, how to compute distance from each point j (P[j]) to each line i (P0[i],P1[i])? (★★★)"
   ]
  },
  {
   "cell_type": "code",
   "execution_count": null,
   "metadata": {},
   "outputs": [],
   "source": [
    "import numpy as np\n",
    "\n",
    "\n",
    "n_lines = PO.shape[0]\n",
    "n_points = P.shape[0]\n",
    "\n",
    "dP = P.reshape((1, n_points, 2)) - PO.reshape((n_lines, 1, 2))\n",
    "dP0 = np.zeros((n_lines, n_points, 2))\n",
    "dP0[:] = PO.reshape((n_lines, 1, 2))\n",
    "dP1 = np.zeros((n_lines, n_points, 2))\n",
    "dP1[:] = P1.reshape((n_lines, 1, 2))\n",
    "dP1 -= PO.reshape((n_lines, 1, 2))\n",
    "\n",
    "\n",
    "cross = np.cross(dP1, dP)\n",
    "norm = np.linalg.norm(dP1, axis=-1)\n",
    "compute distance\n",
    "distance = np.abs(cross) / norm\n"
   ]
  },
  {
   "cell_type": "markdown",
   "metadata": {},
   "source": [
    "#### 80. Consider an arbitrary array, write a function that extract a subpart with a fixed shape and centered on a given element (pad with a `fill` value when necessary) (★★★)"
   ]
  },
  {
   "cell_type": "code",
   "execution_count": null,
   "metadata": {},
   "outputs": [],
   "source": [
    "import numpy as np\n",
    "\n",
    "def extract_subarray(arr, center, sub_shape):\n",
    "    \n",
    "    sub_arr = np.zeros(sub_shape, dtype=arr.dtype)\n",
    "    y, x = center\n",
    "    h, w = sub_shape\n",
    "    sub_arr_y_min = max(0, y - h//2)\n",
    "    sub_arr_y_max = min(arr.shape[0], y + h//2 + 1)\n",
    "    sub_arr_x_min = max(0, x - w//2)\n",
    "    sub_arr_x_max = min(arr.shape[1], x + w//2 + 1)\n",
    "    arr_y_min = sub_arr_y_min - (y - h//2)\n",
    "    arr_y_max = sub_arr_y_max - (y - h//2)\n",
    "    arr_x_min = sub_arr_x_min - (x - w//2)\n",
    "    arr_x_max = sub_arr_x_max - (x - w//2)\n",
    "    sub_arr[(sub_arr_y_min-y+h//2):(sub_arr_y_max-y+h//2), \n",
    "            (sub_arr_x_min-x+w//2):(sub_arr_x_max-x+w//2)] = arr[arr_y_min:arr_y_max, arr_x_min:arr_x_max]\n",
    "    return sub_arr\n"
   ]
  },
  {
   "cell_type": "markdown",
   "metadata": {},
   "source": [
    "#### 81. Consider an array Z = [1,2,3,4,5,6,7,8,9,10,11,12,13,14], how to generate an array R = [[1,2,3,4], [2,3,4,5], [3,4,5,6], ..., [11,12,13,14]]? (★★★)"
   ]
  },
  {
   "cell_type": "code",
   "execution_count": null,
   "metadata": {},
   "outputs": [],
   "source": [
    "import numpy as np\n",
    "\n",
    "Z = np.array([1,2,3,4,5,6,7,8,9,10,11,12,13,14])\n",
    "window_size = 4\n",
    "\n",
    "R = np.array([Z[i:i+window_size] for i in range(len(Z)-window_size+1)])\n"
   ]
  },
  {
   "cell_type": "markdown",
   "metadata": {},
   "source": [
    "#### 82. Compute a matrix rank (★★★)"
   ]
  },
  {
   "cell_type": "code",
   "execution_count": null,
   "metadata": {},
   "outputs": [],
   "source": [
    "import numpy as np\n",
    "\n",
    "\n",
    "A = np.array([[1, 2, 3], [4, 5, 6], [7, 8, 9]])\n",
    "\n",
    "\n",
    "rank = np.linalg.matrix_rank(A)\n",
    "\n",
    "\n",
    "print(rank)\n"
   ]
  },
  {
   "cell_type": "markdown",
   "metadata": {},
   "source": [
    "#### 83. How to find the most frequent value in an array?"
   ]
  },
  {
   "cell_type": "code",
   "execution_count": null,
   "metadata": {},
   "outputs": [],
   "source": [
    "import numpy as np\n",
    "\n",
    "arr = np.array([1, 2, 3, 2, 3, 3, 4, 5, 5, 5, 5])\n",
    "\n",
    "counts = np.bincount(arr)\n",
    "most_frequent_value = np.argmax(counts)\n",
    "\n",
    "print(\"The most frequent value is:\", most_frequent_value)\n"
   ]
  },
  {
   "cell_type": "markdown",
   "metadata": {},
   "source": [
    "#### 84. Extract all the contiguous 3x3 blocks from a random 10x10 matrix (★★★)"
   ]
  },
  {
   "cell_type": "code",
   "execution_count": null,
   "metadata": {},
   "outputs": [],
   "source": [
    "import numpy as np\n",
    "\n",
    "arr = np.random.rand(10, 10)\n",
    "\n",
    "window_shape = (3, 3)\n",
    "strides = arr.strides\n",
    "\n",
    "view = np.lib.stride_tricks.as_strided(arr, shape=(8, 8, 3, 3), strides=strides * 2)\n",
    "\n",
    "blocks = view.reshape((8, 8, -1))\n",
    "\n",
    "print(blocks)\n"
   ]
  },
  {
   "cell_type": "markdown",
   "metadata": {},
   "source": [
    "#### 85. Create a 2D array subclass such that Z[i,j] == Z[j,i] (★★★)"
   ]
  },
  {
   "cell_type": "code",
   "execution_count": null,
   "metadata": {},
   "outputs": [],
   "source": [
    "import numpy as np\n",
    "\n",
    "class SymmetricArray(np.ndarray):\n",
    "    def __setitem__(self, index, value):\n",
    "        i, j = index\n",
    "        super().__setitem__((i, j), value)\n",
    "        super().__setitem__((j, i), value)\n",
    "\n",
    "\n",
    "a = SymmetricArray((3, 3))\n",
    "a[0, 1] = 1\n",
    "a[1, 2] = 2\n",
    "print(a)\n"
   ]
  },
  {
   "cell_type": "markdown",
   "metadata": {},
   "source": [
    "#### 86. Consider a set of p matrices wich shape (n,n) and a set of p vectors with shape (n,1). How to compute the sum of of the p matrix products at once? (result has shape (n,1)) (★★★)"
   ]
  },
  {
   "cell_type": "code",
   "execution_count": null,
   "metadata": {},
   "outputs": [],
   "source": [
    "import numpy as np\n",
    "\n",
    "\n",
    "p = 5  \n",
    "n = 3  \n",
    "matrices = np.random.rand(p, n, n)\n",
    "vectors = np.random.rand(p, n, 1)\n",
    "\n",
    "\n",
    "result = np.sum(matrices @ vectors, axis=0)\n",
    "\n",
    "\n",
    "print(result)\n"
   ]
  },
  {
   "cell_type": "markdown",
   "metadata": {},
   "source": [
    "#### 87. Consider a 16x16 array, how to get the block-sum (block size is 4x4)? (★★★)"
   ]
  },
  {
   "cell_type": "code",
   "execution_count": null,
   "metadata": {},
   "outputs": [],
   "source": [
    "import numpy as np\n",
    "\n",
    "\n",
    "arr = np.random.randint(0, 10, (16, 16))\n",
    "\n",
    "\n",
    "blocks = arr.reshape(8, 2, 8, 2)\n",
    "\n",
    "\n",
    "sub_block_sum = blocks.sum(axis=(1, 3))\n",
    "\n",
    "block_sum = sub_block_sum.sum(axis=(1, 2))\n",
    "\n",
    "print(block_sum)\n"
   ]
  },
  {
   "cell_type": "markdown",
   "metadata": {},
   "source": [
    "#### 88. How to implement the Game of Life using numpy arrays? (★★★)"
   ]
  },
  {
   "cell_type": "code",
   "execution_count": null,
   "metadata": {},
   "outputs": [],
   "source": [
    "import numpy as np\n",
    "\n",
    "def game_of_life(grid, steps):\n",
    "    \n",
    "    \n",
    "    new_grid = np.copy(grid)\n",
    "\n",
    "    \n",
    "    rows, cols = grid.shape\n",
    "\n",
    "    \n",
    "    kernel = np.array([[1, 1, 1],\n",
    "                       [1, 0, 1],\n",
    "                       [1, 1, 1]])\n",
    "\n",
    "    \n",
    "    for s in range(steps):\n",
    "        \n",
    "        neighbors = np.zeros_like(grid)\n",
    "        for i in range(rows):\n",
    "            for j in range(cols):\n",
    "                neighbors[i, j] = np.sum(grid[max(0, i-1):min(rows, i+2), max(0, j-1):min(cols, j+2)] * kernel)\n",
    "\n",
    "    \n",
    "        new_grid[(grid == 1) & ((neighbors < 2) | (neighbors > 3))] = 0\n",
    "        new_grid[(grid == 1) & ((neighbors == 2) | (neighbors == 3))] = 1\n",
    "        new_grid[(grid == 0) & (neighbors == 3)] = 1\n",
    "\n",
    "        \n",
    "        grid = np.copy(new_grid)\n",
    "\n",
    "    \n",
    "    return new_grid\n"
   ]
  },
  {
   "cell_type": "markdown",
   "metadata": {},
   "source": [
    "#### 89. How to get the n largest values of an array (★★★)"
   ]
  },
  {
   "cell_type": "code",
   "execution_count": null,
   "metadata": {},
   "outputs": [],
   "source": [
    "import numpy as np\n",
    "\n",
    "\n",
    "arr = np.array([5, 1, 9, 3, 7, 2, 8, 4, 6])\n",
    "\n",
    "\n",
    "n = 3\n",
    "\n",
    "\n",
    "ind = np.argpartition(arr, -n)[-n:]\n",
    "\n",
    "\n",
    "largest_values = arr[ind]\n",
    "\n",
    "\n",
    "print(largest_values)\n"
   ]
  },
  {
   "cell_type": "markdown",
   "metadata": {},
   "source": [
    "#### 90. Given an arbitrary number of vectors, build the cartesian product (every combinations of every item) (★★★)"
   ]
  },
  {
   "cell_type": "code",
   "execution_count": null,
   "metadata": {},
   "outputs": [],
   "source": [
    "import itertools\n",
    "\n",
    "vectors = [[1, 2], [3, 4, 5], [6, 7]]\n",
    "cartesian_product = list(itertools.product(*vectors))\n",
    "\n",
    "print(cartesian_product)\n"
   ]
  },
  {
   "cell_type": "markdown",
   "metadata": {},
   "source": [
    "#### 91. How to create a record array from a regular array? (★★★)"
   ]
  },
  {
   "cell_type": "code",
   "execution_count": null,
   "metadata": {},
   "outputs": [],
   "source": [
    "import numpy as np\n",
    "\n",
    "\n",
    "a = np.array([[1, 2, 3],\n",
    "              [4, 5, 6],\n",
    "              [7, 8, 9]])\n",
    "\n",
    "\n",
    "dtype = [('col1', int), ('col2', int), ('col3', int)]\n",
    "\n",
    "\n",
    "r = np.rec.array(a, dtype=dtype)\n",
    "\n",
    "print(r.col1) \n",
    "print(r.col2) \n",
    "print(r.col3) \n"
   ]
  },
  {
   "cell_type": "markdown",
   "metadata": {},
   "source": [
    "#### 92. Consider a large vector Z, compute Z to the power of 3 using 3 different methods (★★★)"
   ]
  },
  {
   "cell_type": "code",
   "execution_count": null,
   "metadata": {},
   "outputs": [],
   "source": [
    "import numpy as np\n",
    "\n",
    "\n",
    "Z = np.random.rand(1000000)\n",
    "\n",
    "Z_cube = Z * Z * Z\n"
   ]
  },
  {
   "cell_type": "markdown",
   "metadata": {},
   "source": [
    "#### 93. Consider two arrays A and B of shape (8,3) and (2,2). How to find rows of A that contain elements of each row of B regardless of the order of the elements in B? (★★★)"
   ]
  },
  {
   "cell_type": "code",
   "execution_count": null,
   "metadata": {},
   "outputs": [],
   "source": [
    "import numpy as np\n",
    "\n",
    "\n",
    "A = np.random.randint(0, 10, size=(8, 3))\n",
    "B = np.array([[2, 5], [8, 1]])\n",
    "\n",
    "\n",
    "mask = np.logical_and(np.isin(A, B[0]), np.isin(A, B[1]))\n",
    "\n",
    "\n",
    "rows = np.where(mask.all(axis=1))[0]\n",
    "\n",
    "print(rows)\n"
   ]
  },
  {
   "cell_type": "markdown",
   "metadata": {},
   "source": [
    "#### 94. Considering a 10x3 matrix, extract rows with unequal values (e.g. [2,2,3]) (★★★)"
   ]
  },
  {
   "cell_type": "code",
   "execution_count": null,
   "metadata": {},
   "outputs": [],
   "source": [
    "import numpy as np\n",
    "\n",
    "matrix = np.array([[1, 2, 3],\n",
    "                   [2, 2, 3],\n",
    "                   [1, 1, 1],\n",
    "                   [4, 5, 6],\n",
    "                   [1, 2, 1],\n",
    "                   [7, 7, 7],\n",
    "                   [8, 8, 9],\n",
    "                   [0, 1, 1],\n",
    "                   [9, 9, 9],\n",
    "                   [2, 2, 2]])\n",
    "\n",
    "\n",
    "unequal_rows = np.empty((0, matrix.shape[1]), dtype=matrix.dtype)\n",
    "\n",
    "\n",
    "for row in matrix:\n",
    "    \n",
    "    if len(set(row)) > 1:\n",
    "        \n",
    "        unequal_rows = np.vstack((unequal_rows, row))\n",
    "\n",
    "print(unequal_rows)\n"
   ]
  },
  {
   "cell_type": "markdown",
   "metadata": {},
   "source": [
    "#### 95. Convert a vector of ints into a matrix binary representation (★★★)"
   ]
  },
  {
   "cell_type": "code",
   "execution_count": null,
   "metadata": {},
   "outputs": [],
   "source": [
    "import numpy as np\n",
    "\n",
    "\n",
    "input_vector = np.array([2, 5, 7], dtype=np.uint8)\n",
    "\n",
    "\n",
    "binary_matrix = np.unpackbits(input_vector[:, np.newaxis], axis=1)\n",
    "\n",
    "\n",
    "print(binary_matrix)\n"
   ]
  },
  {
   "cell_type": "markdown",
   "metadata": {},
   "source": [
    "#### 96. Given a two dimensional array, how to extract unique rows? (★★★)"
   ]
  },
  {
   "cell_type": "code",
   "execution_count": null,
   "metadata": {},
   "outputs": [],
   "source": [
    "import numpy as np\n",
    "\n",
    "arr = np.array([[1, 2, 3], [4, 5, 6], [1, 2, 3], [7, 8, 9], [4, 5, 6]])\n",
    "unique_arr = np.unique(arr, axis=0)\n",
    "\n",
    "print(unique_arr)\n"
   ]
  },
  {
   "cell_type": "markdown",
   "metadata": {},
   "source": [
    "#### 97. Considering 2 vectors A & B, write the einsum equivalent of inner, outer, sum, and mul function (★★★)"
   ]
  },
  {
   "cell_type": "code",
   "execution_count": null,
   "metadata": {},
   "outputs": [],
   "source": []
  },
  {
   "cell_type": "markdown",
   "metadata": {},
   "source": [
    "#### 98. Considering a path described by two vectors (X,Y), how to sample it using equidistant samples (★★★)?"
   ]
  },
  {
   "cell_type": "code",
   "execution_count": null,
   "metadata": {},
   "outputs": [],
   "source": [
    "import numpy as np\n",
    "\n",
    "\n",
    "X = np.array([0, 1, 3, 4, 6])\n",
    "Y = np.array([0, 2, 1, 3, 5])\n",
    "\n",
    "\n",
    "distances = np.cumsum(np.sqrt(np.diff(X)**2 + np.diff(Y)**2))\n",
    "distances = np.concatenate(([0], distances))  # prepend 0\n",
    "\n",
    "num_samples = 10\n",
    "\n",
    "\n",
    "sample_distances = np.linspace(0, distances[-1], num=num_samples)\n",
    "\n",
    "\n",
    "sample_X = np.interp(sample_distances, distances, X)\n",
    "sample_Y = np.interp(sample_distances, distances, Y)\n",
    "\n",
    "\n",
    "print(\"Sampled path:\")\n",
    "for i in range(num_samples):\n",
    "    print(f\"({sample_X[i]:.2f}, {sample_Y[i]:.2f})\")\n"
   ]
  },
  {
   "cell_type": "markdown",
   "metadata": {},
   "source": [
    "#### 99. Given an integer n and a 2D array X, select from X the rows which can be interpreted as draws from a multinomial distribution with n degrees, i.e., the rows which only contain integers and which sum to n. (★★★)"
   ]
  },
  {
   "cell_type": "code",
   "execution_count": null,
   "metadata": {},
   "outputs": [],
   "source": [
    "import numpy as np\n",
    "\n",
    "n = 5\n",
    "X = np.array([[1, 2, 2], [0, 1, 4], [3, 0, 2], [2, 2, 1], [1, 3, 1]])\n",
    "\n",
    "mask = (X.sum(axis=1) == n) & np.all(X.astype(int) == X, axis=1)\n",
    "\n",
    "rows = X[mask]\n"
   ]
  },
  {
   "cell_type": "markdown",
   "metadata": {},
   "source": [
    "#### 100. Compute bootstrapped 95% confidence intervals for the mean of a 1D array X (i.e., resample the elements of an array with replacement N times, compute the mean of each sample, and then compute percentiles over the means). (★★★)"
   ]
  },
  {
   "cell_type": "code",
   "execution_count": null,
   "metadata": {},
   "outputs": [],
   "source": []
  },
  {
   "cell_type": "code",
   "execution_count": null,
   "metadata": {},
   "outputs": [],
   "source": []
  }
 ],
 "metadata": {
  "kernelspec": {
   "display_name": "Python 3",
   "language": "python",
   "name": "python3"
  },
  "language_info": {
   "codemirror_mode": {
    "name": "ipython",
    "version": 3
   },
   "file_extension": ".py",
   "mimetype": "text/x-python",
   "name": "python",
   "nbconvert_exporter": "python",
   "pygments_lexer": "ipython3",
   "version": "3.7.4"
  }
 },
 "nbformat": 4,
 "nbformat_minor": 4
}
